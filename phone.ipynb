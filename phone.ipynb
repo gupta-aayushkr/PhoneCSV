{
 "cells": [
  {
   "cell_type": "code",
   "execution_count": 1,
   "metadata": {},
   "outputs": [],
   "source": [
    "import pandas as pd"
   ]
  },
  {
   "cell_type": "code",
   "execution_count": 2,
   "metadata": {},
   "outputs": [],
   "source": [
    "data = pd.read_csv('phonedata - Sheet1.csv')"
   ]
  },
  {
   "cell_type": "code",
   "execution_count": 3,
   "metadata": {},
   "outputs": [
    {
     "data": {
      "text/html": [
       "<div>\n",
       "<style scoped>\n",
       "    .dataframe tbody tr th:only-of-type {\n",
       "        vertical-align: middle;\n",
       "    }\n",
       "\n",
       "    .dataframe tbody tr th {\n",
       "        vertical-align: top;\n",
       "    }\n",
       "\n",
       "    .dataframe thead th {\n",
       "        text-align: right;\n",
       "    }\n",
       "</style>\n",
       "<table border=\"1\" class=\"dataframe\">\n",
       "  <thead>\n",
       "    <tr style=\"text-align: right;\">\n",
       "      <th></th>\n",
       "      <th>Number</th>\n",
       "    </tr>\n",
       "  </thead>\n",
       "  <tbody>\n",
       "    <tr>\n",
       "      <th>0</th>\n",
       "      <td>123-545-5421</td>\n",
       "    </tr>\n",
       "    <tr>\n",
       "      <th>1</th>\n",
       "      <td>123/643/9775</td>\n",
       "    </tr>\n",
       "    <tr>\n",
       "      <th>2</th>\n",
       "      <td>7069456789</td>\n",
       "    </tr>\n",
       "    <tr>\n",
       "      <th>3</th>\n",
       "      <td>123-545-5421</td>\n",
       "    </tr>\n",
       "    <tr>\n",
       "      <th>4</th>\n",
       "      <td>876|678|3469</td>\n",
       "    </tr>\n",
       "    <tr>\n",
       "      <th>5</th>\n",
       "      <td>304-762-2467</td>\n",
       "    </tr>\n",
       "    <tr>\n",
       "      <th>6</th>\n",
       "      <td>NaN</td>\n",
       "    </tr>\n",
       "    <tr>\n",
       "      <th>7</th>\n",
       "      <td>876|678|3469</td>\n",
       "    </tr>\n",
       "    <tr>\n",
       "      <th>8</th>\n",
       "      <td>N/a</td>\n",
       "    </tr>\n",
       "    <tr>\n",
       "      <th>9</th>\n",
       "      <td>123-545-5421</td>\n",
       "    </tr>\n",
       "    <tr>\n",
       "      <th>10</th>\n",
       "      <td>7069456789</td>\n",
       "    </tr>\n",
       "    <tr>\n",
       "      <th>11</th>\n",
       "      <td>NaN</td>\n",
       "    </tr>\n",
       "    <tr>\n",
       "      <th>12</th>\n",
       "      <td>7069456789</td>\n",
       "    </tr>\n",
       "  </tbody>\n",
       "</table>\n",
       "</div>"
      ],
      "text/plain": [
       "          Number\n",
       "0   123-545-5421\n",
       "1   123/643/9775\n",
       "2     7069456789\n",
       "3   123-545-5421\n",
       "4   876|678|3469\n",
       "5   304-762-2467\n",
       "6            NaN\n",
       "7   876|678|3469\n",
       "8            N/a\n",
       "9   123-545-5421\n",
       "10    7069456789\n",
       "11           NaN\n",
       "12    7069456789"
      ]
     },
     "execution_count": 3,
     "metadata": {},
     "output_type": "execute_result"
    }
   ],
   "source": [
    "data"
   ]
  },
  {
   "cell_type": "code",
   "execution_count": 5,
   "metadata": {},
   "outputs": [
    {
     "data": {
      "text/plain": [
       "array([['123-545-5421'],\n",
       "       ['123/643/9775'],\n",
       "       ['7069456789'],\n",
       "       ['123-545-5421'],\n",
       "       ['876|678|3469'],\n",
       "       ['304-762-2467'],\n",
       "       [nan],\n",
       "       ['876|678|3469'],\n",
       "       ['N/a'],\n",
       "       ['123-545-5421'],\n",
       "       ['7069456789'],\n",
       "       [nan],\n",
       "       ['7069456789']], dtype=object)"
      ]
     },
     "execution_count": 5,
     "metadata": {},
     "output_type": "execute_result"
    }
   ],
   "source": [
    "data.values"
   ]
  },
  {
   "cell_type": "code",
   "execution_count": 54,
   "metadata": {},
   "outputs": [
    {
     "name": "stdout",
     "output_type": "stream",
     "text": [
      "['123-545-5421', '123-643-9775', '706-945-6789', '123-545-5421', '876-678-3469', '304-762-2467', nan, '876-678-3469', '123-545-5421', '706-945-6789', nan, '706-945-6789']\n"
     ]
    }
   ],
   "source": [
    "cleaned_number = []\n",
    "for i in data.values:\n",
    "    number = i[0]\n",
    "    if type(number) == str:\n",
    "        if len(number)>10:\n",
    "            if number[-5] == \"/\" :\n",
    "                number = number.replace('/','-')\n",
    "                cleaned_number.append(number)\n",
    "            elif number[-5] == \"|\":\n",
    "                number = number.replace('|','-')\n",
    "                cleaned_number.append(number)\n",
    "            elif number[-5] == \"-\":\n",
    "                cleaned_number.append(number)\n",
    "        elif len(number) == 10:\n",
    "            number =number[:3] +'-'+ number[3:6]+'-'+ number[6:10]\n",
    "            cleaned_number.append(number)\n",
    "    elif type(number) == float:\n",
    "        cleaned_number.append(number)\n",
    "print(cleaned_number)"
   ]
  },
  {
   "cell_type": "code",
   "execution_count": null,
   "metadata": {},
   "outputs": [],
   "source": []
  }
 ],
 "metadata": {
  "kernelspec": {
   "display_name": "Python 3",
   "language": "python",
   "name": "python3"
  },
  "language_info": {
   "codemirror_mode": {
    "name": "ipython",
    "version": 3
   },
   "file_extension": ".py",
   "mimetype": "text/x-python",
   "name": "python",
   "nbconvert_exporter": "python",
   "pygments_lexer": "ipython3",
   "version": "3.10.13"
  },
  "orig_nbformat": 4
 },
 "nbformat": 4,
 "nbformat_minor": 2
}
